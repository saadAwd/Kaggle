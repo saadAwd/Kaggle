{
 "cells": [
  {
   "cell_type": "markdown",
   "id": "16a11d24",
   "metadata": {
    "papermill": {
     "duration": 0.010806,
     "end_time": "2023-07-02T19:11:41.180775",
     "exception": false,
     "start_time": "2023-07-02T19:11:41.169969",
     "status": "completed"
    },
    "tags": []
   },
   "source": [
    "**Introduction**\n",
    "\n",
    "This project is a solution for talent sourcing company that wants to automate the talent sourcing process.\n",
    "We will do this by using a machine learning model to spot talented individuals and rank them based on their fitness.\n",
    "The model will be trained on a dataset of historical data, including the skills and experience of successful candidates, the keywords used to search for candidates, and the results of manual reviews.\n",
    "The model will be able to rank candidates based on their likelihood of being a good fit for a specific role.\n",
    "In addition to automating the talent sourcing process, our solution will also allow us to re-rank the list of fitting candidates based on manual review feedback.\n",
    "This will allow the company to make better decisions about which candidates to pursue and will to find the best possible candidates for the clients.\n"
   ]
  },
  {
   "cell_type": "markdown",
   "id": "9189abfc",
   "metadata": {
    "papermill": {
     "duration": 0.006058,
     "end_time": "2023-07-02T19:11:41.194978",
     "exception": false,
     "start_time": "2023-07-02T19:11:41.188920",
     "status": "completed"
    },
    "tags": []
   },
   "source": [
    "* The following is the default intilization of Kaggle Notebook "
   ]
  },
  {
   "cell_type": "code",
   "execution_count": 1,
   "id": "3aef5961",
   "metadata": {
    "execution": {
     "iopub.execute_input": "2023-07-02T19:11:41.208547Z",
     "iopub.status.busy": "2023-07-02T19:11:41.207990Z",
     "iopub.status.idle": "2023-07-02T19:11:41.233499Z",
     "shell.execute_reply": "2023-07-02T19:11:41.232301Z"
    },
    "papermill": {
     "duration": 0.035676,
     "end_time": "2023-07-02T19:11:41.236232",
     "exception": false,
     "start_time": "2023-07-02T19:11:41.200556",
     "status": "completed"
    },
    "tags": []
   },
   "outputs": [
    {
     "name": "stdout",
     "output_type": "stream",
     "text": [
      "/kaggle/input/textsearch/potential-talents - Aspiring human resources - seeking human resources.csv\n"
     ]
    }
   ],
   "source": [
    "# This Python 3 environment comes with many helpful analytics libraries installed\n",
    "# It is defined by the kaggle/python Docker image: https://github.com/kaggle/docker-python\n",
    "# For example, here's several helpful packages to load\n",
    "\n",
    "import numpy as np # linear algebra\n",
    "import pandas as pd # data processing, CSV file I/O (e.g. pd.read_csv)\n",
    "\n",
    "# Input data files are available in the read-only \"../input/\" directory\n",
    "# For example, running this (by clicking run or pressing Shift+Enter) will list all files under the input directory\n",
    "\n",
    "import os\n",
    "for dirname, _, filenames in os.walk('/kaggle/input'):\n",
    "    for filename in filenames:\n",
    "        print(os.path.join(dirname, filename))\n",
    "\n",
    "# You can write up to 20GB to the current directory (/kaggle/working/) that gets preserved as output when you create a version using \"Save & Run All\" \n",
    "# You can also write temporary files to /kaggle/temp/, but they won't be saved outside of the current session"
   ]
  },
  {
   "cell_type": "markdown",
   "id": "66906af3",
   "metadata": {
    "papermill": {
     "duration": 0.005139,
     "end_time": "2023-07-02T19:11:41.247075",
     "exception": false,
     "start_time": "2023-07-02T19:11:41.241936",
     "status": "completed"
    },
    "tags": []
   },
   "source": [
    "* Importing the required libraries and setting the i/o max_chars to control the resources utilization"
   ]
  },
  {
   "cell_type": "code",
   "execution_count": 2,
   "id": "6f38f2f9",
   "metadata": {
    "execution": {
     "iopub.execute_input": "2023-07-02T19:11:41.261498Z",
     "iopub.status.busy": "2023-07-02T19:11:41.259991Z",
     "iopub.status.idle": "2023-07-02T19:11:44.971566Z",
     "shell.execute_reply": "2023-07-02T19:11:44.970162Z"
    },
    "papermill": {
     "duration": 3.722804,
     "end_time": "2023-07-02T19:11:44.975407",
     "exception": false,
     "start_time": "2023-07-02T19:11:41.252603",
     "status": "completed"
    },
    "tags": []
   },
   "outputs": [],
   "source": [
    "import IPython\n",
    "IPython.core.display._iopub_max_chars = 1000000\n",
    "import gensim.downloader as api\n",
    "from sklearn.metrics.pairwise import cosine_similarity\n",
    "from sklearn.datasets import load_svmlight_file\n",
    "from sklearn.linear_model import LogisticRegression\n",
    "from sklearn.model_selection import train_test_split\n",
    "from sklearn.metrics import ndcg_score\n",
    "from sklearn.feature_extraction.text import TfidfVectorizer\n",
    "import pandas as pd\n",
    "import lightgbm as lgb\n",
    "from sklearn.metrics import average_precision_score\n",
    "import numpy as np\n",
    "from sklearn.feature_extraction.text import TfidfVectorizer\n"
   ]
  },
  {
   "cell_type": "markdown",
   "id": "911376ae",
   "metadata": {
    "papermill": {
     "duration": 0.005303,
     "end_time": "2023-07-02T19:11:44.988275",
     "exception": false,
     "start_time": "2023-07-02T19:11:44.982972",
     "status": "completed"
    },
    "tags": []
   },
   "source": [
    "**Training the model**\n",
    "\n",
    "We have trained the model by using diffrent approaches to check which of them is providing the best fit result.\n",
    "as conclousion we found that TD-IDF is giving best similarity score among the other used techniques (Word2Vec, BERT, gloVe).\n",
    "\n",
    "* The following code is for training TF-IDF model to find the similarity score between the keywords and the job_title column for each applicant."
   ]
  },
  {
   "cell_type": "code",
   "execution_count": 3,
   "id": "91655137",
   "metadata": {
    "execution": {
     "iopub.execute_input": "2023-07-02T19:11:45.002005Z",
     "iopub.status.busy": "2023-07-02T19:11:45.001425Z",
     "iopub.status.idle": "2023-07-02T19:11:45.084720Z",
     "shell.execute_reply": "2023-07-02T19:11:45.083281Z"
    },
    "papermill": {
     "duration": 0.093939,
     "end_time": "2023-07-02T19:11:45.087911",
     "exception": false,
     "start_time": "2023-07-02T19:11:44.993972",
     "status": "completed"
    },
    "tags": []
   },
   "outputs": [
    {
     "name": "stdout",
     "output_type": "stream",
     "text": [
      "    id                                          job_title  \\\n",
      "2    3              Aspiring Human Resources Professional   \n",
      "5    6                Aspiring Human Resources Specialist   \n",
      "6    7  Student at Humber College and Aspiring Human R...   \n",
      "8    9  Student at Humber College and Aspiring Human R...   \n",
      "16  17              Aspiring Human Resources Professional   \n",
      "20  21              Aspiring Human Resources Professional   \n",
      "23  24                Aspiring Human Resources Specialist   \n",
      "24  25  Student at Humber College and Aspiring Human R...   \n",
      "32  33              Aspiring Human Resources Professional   \n",
      "35  36                Aspiring Human Resources Specialist   \n",
      "36  37  Student at Humber College and Aspiring Human R...   \n",
      "38  39  Student at Humber College and Aspiring Human R...   \n",
      "45  46              Aspiring Human Resources Professional   \n",
      "48  49                Aspiring Human Resources Specialist   \n",
      "49  50  Student at Humber College and Aspiring Human R...   \n",
      "51  52  Student at Humber College and Aspiring Human R...   \n",
      "57  58              Aspiring Human Resources Professional   \n",
      "59  60                Aspiring Human Resources Specialist   \n",
      "72  73  Aspiring Human Resources Manager, seeking inte...   \n",
      "73  74                       Human Resources Professional   \n",
      "96  97              Aspiring Human Resources Professional   \n",
      "\n",
      "                               location connection  fit     tfidf  \n",
      "2   Raleigh-Durham, North Carolina Area         44  NaN  0.753591  \n",
      "5            Greater New York City Area          1  NaN  0.695679  \n",
      "6                                Kanada         61  NaN  0.400609  \n",
      "8                                Kanada         61  NaN  0.400609  \n",
      "16  Raleigh-Durham, North Carolina Area         44  NaN  0.753591  \n",
      "20  Raleigh-Durham, North Carolina Area         44  NaN  0.753591  \n",
      "23           Greater New York City Area          1  NaN  0.695679  \n",
      "24                               Kanada         61  NaN  0.400609  \n",
      "32  Raleigh-Durham, North Carolina Area         44  NaN  0.753591  \n",
      "35           Greater New York City Area          1  NaN  0.695679  \n",
      "36                               Kanada         61  NaN  0.400609  \n",
      "38                               Kanada         61  NaN  0.400609  \n",
      "45  Raleigh-Durham, North Carolina Area         44  NaN  0.753591  \n",
      "48           Greater New York City Area          1  NaN  0.695679  \n",
      "49                               Kanada         61  NaN  0.400609  \n",
      "51                               Kanada         61  NaN  0.400609  \n",
      "57  Raleigh-Durham, North Carolina Area         44  NaN  0.753591  \n",
      "59           Greater New York City Area          1  NaN  0.695679  \n",
      "72                  Houston, Texas Area          7  NaN  0.533162  \n",
      "73                  Greater Boston Area         16  NaN  0.460159  \n",
      "96                 Kokomo, Indiana Area         71  NaN  0.753591   \n",
      "\n",
      "id            21\n",
      "job_title     21\n",
      "location      21\n",
      "connection    21\n",
      "fit            0\n",
      "tfidf         21\n",
      "dtype: int64\n"
     ]
    }
   ],
   "source": [
    "\n",
    "# Loading the data set to the workbook\n",
    "df = pd.read_csv(\"/kaggle/input/textsearch/potential-talents - Aspiring human resources - seeking human resources.csv\")\n",
    "\n",
    "# create a TF-IDF vectorizer to extract features from text documents\n",
    "vectorizer = TfidfVectorizer()\n",
    "\n",
    "# fit the vectorizer on the job_title column\n",
    "vectorizer.fit(df['job_title'])\n",
    "\n",
    "# transform the job_title column into a TF-IDF matrix\n",
    "tfidf_matrix = vectorizer.transform(df['job_title'])\n",
    "\n",
    "# compute the cosine similarity between each row and the target phrase\n",
    "target_phrase = 'aspiring human resources'\n",
    "target_tfidf = vectorizer.transform([target_phrase])\n",
    "similarity_scores = tfidf_matrix.dot(target_tfidf.T).toarray().flatten()\n",
    "\n",
    "# add the scores as a new column in the DataFrame\n",
    "df['tfidf'] = similarity_scores\n",
    "\n",
    "# filter the DataFrame to show only rows with similarity > 0.4\n",
    "similar_jobs = df[df['tfidf'] >= 0.4]\n",
    "\n",
    "# print the filtered DataFrame\n",
    "print(similar_jobs, '\\n')\n",
    "\n",
    "# print the count of the filtered DataFrame\n",
    "print(similar_jobs.count())"
   ]
  },
  {
   "cell_type": "markdown",
   "id": "b2c37bd6",
   "metadata": {
    "papermill": {
     "duration": 0.005567,
     "end_time": "2023-07-02T19:11:45.099646",
     "exception": false,
     "start_time": "2023-07-02T19:11:45.094079",
     "status": "completed"
    },
    "tags": []
   },
   "source": [
    "**Learning To Rank**\n",
    "\n",
    "in the follwoing code we prepared the resulted daataframe from TF-IDF to be used in the learn to rank model for ranking the job tiltles, we have used LightGBM which is a framework developed by Microsoft that that uses tree based learning algorithms to rank the results."
   ]
  },
  {
   "cell_type": "code",
   "execution_count": 4,
   "id": "83d7d611",
   "metadata": {
    "execution": {
     "iopub.execute_input": "2023-07-02T19:11:45.113685Z",
     "iopub.status.busy": "2023-07-02T19:11:45.113171Z",
     "iopub.status.idle": "2023-07-02T19:11:45.239725Z",
     "shell.execute_reply": "2023-07-02T19:11:45.238610Z"
    },
    "papermill": {
     "duration": 0.137555,
     "end_time": "2023-07-02T19:11:45.243131",
     "exception": false,
     "start_time": "2023-07-02T19:11:45.105576",
     "status": "completed"
    },
    "tags": []
   },
   "outputs": [
    {
     "name": "stdout",
     "output_type": "stream",
     "text": [
      "[ 2  5 16 20 23 32 35 45 48 57 59 72 96] \n",
      "\n",
      "[  0   1   3   4   6   7   8   9  10  11  12  13  14  15  17  18  19  21\n",
      "  22  24  25  26  27  28  29  30  31  33  34  36  37  38  39  40  41  42\n",
      "  43  44  46  47  49  50  51  52  53  54  55  56  58  60  61  62  63  64\n",
      "  65  66  67  68  69  70  71  73  74  75  76  77  78  79  80  81  82  83\n",
      "  84  85  86  87  88  89  90  91  92  93  94  95  97  98  99 100 101 102\n",
      " 103] \n",
      "\n",
      "13 \n",
      "\n",
      "[13] \n",
      "\n",
      "[ 1  2  3  4  5  6  7  8  9 10 11 12 13] \n",
      "\n",
      "The top ranked job titles for Aspiring are:\n",
      "Aspiring Human Resources Professional\n",
      "Aspiring Human Resources Specialist\n",
      "Aspiring Human Resources Professional\n",
      "Aspiring Human Resources Professional\n",
      "Aspiring Human Resources Specialist\n",
      "Aspiring Human Resources Professional\n",
      "Aspiring Human Resources Specialist\n",
      "Aspiring Human Resources Professional\n",
      "Aspiring Human Resources Specialist\n",
      "Aspiring Human Resources Professional\n",
      "Aspiring Human Resources Specialist\n",
      "Aspiring Human Resources Manager, seeking internship in Human Resources.\n",
      "Aspiring Human Resources Professional\n"
     ]
    }
   ],
   "source": [
    "\n",
    "# Extract the job titles from the relevant column\n",
    "job_titles = df['job_title'].tolist()\n",
    "\n",
    "# Define the keywords as a complete sentence\n",
    "keywords = \"Aspiring Human Resources\"\n",
    "\n",
    "# Compute the TFIDF scores\n",
    "vectorizer = TfidfVectorizer()\n",
    "tfidf_scores = vectorizer.fit_transform(job_titles)\n",
    "keyword_scores = vectorizer.transform([keywords])\n",
    "\n",
    "# computes the similarity scores between each job description represented as a TF-IDF vector and a set of keywords represented as a binary vector.\n",
    "similarity_scores = tfidf_scores.dot(keyword_scores.T).toarray()\n",
    "\n",
    "# Choose the rows with similarity scores > 0.5\n",
    "selected_rows = np.where(similarity_scores >= 0.5)[0]\n",
    "dropped_rows = np.where(similarity_scores < 0.5)[0]\n",
    "print(selected_rows,'\\n')\n",
    "print(dropped_rows,'\\n')\n",
    "\n",
    "# defines the target variable y as a list of integers from 1 to the number of selected rows. \n",
    "y = [i+1 for i in range(len(selected_rows))]\n",
    "\n",
    "# Prepares the input data X for the model by selecting the rows with similarity scores greater than or equal to 0.5 from the TF-IDF matrix.\n",
    "X = tfidf_scores[selected_rows,:]\n",
    "\n",
    "# Converts the resulting sparse matrix to a dense array.\n",
    "X = X.toarray()\n",
    "\n",
    "# Computing the length of each job title (in characters and words) and concatenating these features to the TF-IDF matrix using the np.hstack function.\n",
    "X = np.hstack((X, np.array([len(job_title) for job_title in job_titles])[selected_rows].reshape(-1,1)))\n",
    "X = np.hstack((X, np.array([len(job_title.split()) for job_title in job_titles])[selected_rows].reshape(-1,1)))\n",
    "\n",
    "# Define the query information, this is used to eliminate diminsion errors in the LTR models.\n",
    "# array of integers from 0 to the number of selected rows, which is used to identify each query.\n",
    "query_ids = np.arange(len(y))\n",
    "\n",
    "# Array containing the number of selected rows.\n",
    "query_lengths = np.array([len(selected_rows)])\n",
    "\n",
    "# largest label value in y, which is used to determine the number of classes in the classification problem\n",
    "max_label = max(y)\n",
    "\n",
    "print(max_label, '\\n')\n",
    "print(query_lengths, '\\n')\n",
    "\n",
    "#array containing the unique label values in y.\n",
    "unique_labels = np.unique(y)\n",
    "print(unique_labels, '\\n')\n",
    "\n",
    "# Train the LTR model\n",
    "lgb_train = lgb.Dataset(X, y, group=query_lengths)\n",
    "params = {\n",
    "    'boosting_type': 'gbdt',\n",
    "    'objective': 'lambdarank',\n",
    "    'metric': 'ndcg',\n",
    "    'ndcg_eval_at': [5, 10],\n",
    "    'num_leaves': 31,\n",
    "    'learning_rate': 0.05,\n",
    "    'feature_fraction': 0.9,\n",
    "    'bagging_fraction': 0.8,\n",
    "    'bagging_freq': 5,\n",
    "    'verbose': -1\n",
    "}\n",
    "model = lgb.train(params, lgb_train, num_boost_round=100)\n",
    "\n",
    "# Use the model for ranking\n",
    "rankings = model.predict(X, group=query_lengths)\n",
    "ranked_job_titles_Aspiring = [job_titles[selected_rows[i]] for i in np.argsort(rankings)]\n",
    "\n",
    "# Print the ranked job titles\n",
    "print(\"The top ranked job titles for Aspiring are:\")\n",
    "for job_title in ranked_job_titles_Aspiring:\n",
    "    print(job_title)"
   ]
  },
  {
   "cell_type": "markdown",
   "id": "5cd1c92e",
   "metadata": {
    "papermill": {
     "duration": 0.007804,
     "end_time": "2023-07-02T19:11:45.257294",
     "exception": false,
     "start_time": "2023-07-02T19:11:45.249490",
     "status": "completed"
    },
    "tags": []
   },
   "source": [
    "**Sorting**\n",
    "\n",
    "in the follwoing code we sort the job titles based on the ranking results and then print in descending order."
   ]
  },
  {
   "cell_type": "code",
   "execution_count": 5,
   "id": "129addd7",
   "metadata": {
    "execution": {
     "iopub.execute_input": "2023-07-02T19:11:45.272534Z",
     "iopub.status.busy": "2023-07-02T19:11:45.271293Z",
     "iopub.status.idle": "2023-07-02T19:11:45.286666Z",
     "shell.execute_reply": "2023-07-02T19:11:45.285260Z"
    },
    "papermill": {
     "duration": 0.02656,
     "end_time": "2023-07-02T19:11:45.289917",
     "exception": false,
     "start_time": "2023-07-02T19:11:45.263357",
     "status": "completed"
    },
    "tags": []
   },
   "outputs": [
    {
     "name": "stdout",
     "output_type": "stream",
     "text": [
      "id                                               21\n",
      "job_title     Aspiring Human Resources Professional\n",
      "location        Raleigh-Durham, North Carolina Area\n",
      "connection                                       44\n",
      "fit                                             NaN\n",
      "tfidf                                      0.753591\n",
      "Name: 20, dtype: object\n",
      "id                                             24\n",
      "job_title     Aspiring Human Resources Specialist\n",
      "location               Greater New York City Area\n",
      "connection                                      1\n",
      "fit                                           NaN\n",
      "tfidf                                    0.695679\n",
      "Name: 23, dtype: object\n",
      "id                                               33\n",
      "job_title     Aspiring Human Resources Professional\n",
      "location        Raleigh-Durham, North Carolina Area\n",
      "connection                                       44\n",
      "fit                                             NaN\n",
      "tfidf                                      0.753591\n",
      "Name: 32, dtype: object\n",
      "id                                             36\n",
      "job_title     Aspiring Human Resources Specialist\n",
      "location               Greater New York City Area\n",
      "connection                                      1\n",
      "fit                                           NaN\n",
      "tfidf                                    0.695679\n",
      "Name: 35, dtype: object\n",
      "id                                               46\n",
      "job_title     Aspiring Human Resources Professional\n",
      "location        Raleigh-Durham, North Carolina Area\n",
      "connection                                       44\n",
      "fit                                             NaN\n",
      "tfidf                                      0.753591\n",
      "Name: 45, dtype: object\n",
      "id                                             49\n",
      "job_title     Aspiring Human Resources Specialist\n",
      "location               Greater New York City Area\n",
      "connection                                      1\n",
      "fit                                           NaN\n",
      "tfidf                                    0.695679\n",
      "Name: 48, dtype: object\n",
      "id                                               58\n",
      "job_title     Aspiring Human Resources Professional\n",
      "location        Raleigh-Durham, North Carolina Area\n",
      "connection                                       44\n",
      "fit                                             NaN\n",
      "tfidf                                      0.753591\n",
      "Name: 57, dtype: object\n",
      "id                                             60\n",
      "job_title     Aspiring Human Resources Specialist\n",
      "location               Greater New York City Area\n",
      "connection                                      1\n",
      "fit                                           NaN\n",
      "tfidf                                    0.695679\n",
      "Name: 59, dtype: object\n",
      "id                                                           73\n",
      "job_title     Aspiring Human Resources Manager, seeking inte...\n",
      "location                                    Houston, Texas Area\n",
      "connection                                                    7\n",
      "fit                                                         NaN\n",
      "tfidf                                                  0.533162\n",
      "Name: 72, dtype: object\n",
      "id                                               97\n",
      "job_title     Aspiring Human Resources Professional\n",
      "location                       Kokomo, Indiana Area\n",
      "connection                                       71\n",
      "fit                                             NaN\n",
      "tfidf                                      0.753591\n",
      "Name: 96, dtype: object\n"
     ]
    }
   ],
   "source": [
    "# Get the indices of the top N job titles with the highest ranking scores\n",
    "N = 10\n",
    "top_indices = np.argsort(rankings)[-N:]\n",
    "\n",
    "# Print the top N job titles with their corresponding similarity scores\n",
    "for i in top_indices:\n",
    "    index = selected_rows[np.argsort(rankings)[i]]\n",
    "    print(df.iloc[index])"
   ]
  },
  {
   "cell_type": "markdown",
   "id": "3fb1f0fd",
   "metadata": {
    "papermill": {
     "duration": 0.005843,
     "end_time": "2023-07-02T19:11:45.302305",
     "exception": false,
     "start_time": "2023-07-02T19:11:45.296462",
     "status": "completed"
    },
    "tags": []
   },
   "source": [
    "**Starred Applications**\n",
    "\n",
    "the chosen application wil be starred and re ranked to the top of the query result and the remaining applications will be re-ranked."
   ]
  },
  {
   "cell_type": "code",
   "execution_count": 6,
   "id": "b6ac9ee1",
   "metadata": {
    "execution": {
     "iopub.execute_input": "2023-07-02T19:11:45.317374Z",
     "iopub.status.busy": "2023-07-02T19:11:45.316576Z",
     "iopub.status.idle": "2023-07-02T19:11:45.328373Z",
     "shell.execute_reply": "2023-07-02T19:11:45.326536Z"
    },
    "papermill": {
     "duration": 0.023354,
     "end_time": "2023-07-02T19:11:45.331926",
     "exception": false,
     "start_time": "2023-07-02T19:11:45.308572",
     "status": "completed"
    },
    "tags": []
   },
   "outputs": [
    {
     "name": "stdout",
     "output_type": "stream",
     "text": [
      "[10  5 12 11  9  8  7  6  4  3  2  1  0]\n",
      "[10  5 12 11  9  8  7  6  4  3  2  1  0]\n"
     ]
    }
   ],
   "source": [
    "# Starring application function\n",
    "def star_candidate(candidate_id, rankings):\n",
    "    rankings[candidate_id] = float('inf')\n",
    "    return rankings\n",
    "\n",
    "# Star the candidate with ID 10 and 5 as trial\n",
    "rankings = star_candidate(10, rankings)\n",
    "rankings = star_candidate(5, rankings)\n",
    "\n",
    "# Print the re-ranked candidates\n",
    "print(np.argsort(rankings)[::-1])\n",
    "\n",
    "\n",
    "# re-ranking function \n",
    "def re_rank_candidates(rankings):\n",
    "    new_rankings = rankings.copy()\n",
    "    for candidate_id in np.argsort(rankings)[::-1]:\n",
    "        if candidate_id in starred_candidates:\n",
    "            new_rankings[candidate_id] = float('inf')\n",
    "    return new_rankings\n",
    "\n",
    "# Get the list of starred candidates\n",
    "starred_candidates = [10, 5]\n",
    "\n",
    "# Re-rank the candidates\n",
    "new_rankings = re_rank_candidates(rankings)\n",
    "\n",
    "# Print the re-ranked candidates\n",
    "print(np.argsort(new_rankings)[::-1])"
   ]
  },
  {
   "cell_type": "markdown",
   "id": "4fc42069",
   "metadata": {
    "papermill": {
     "duration": 0.006086,
     "end_time": "2023-07-02T19:11:45.344770",
     "exception": false,
     "start_time": "2023-07-02T19:11:45.338684",
     "status": "completed"
    },
    "tags": []
   },
   "source": [
    "**Print the final result**\n",
    "\n",
    "the follwoing code will print the rankings in table with the starred candidates at the top of the result."
   ]
  },
  {
   "cell_type": "code",
   "execution_count": 7,
   "id": "14016410",
   "metadata": {
    "execution": {
     "iopub.execute_input": "2023-07-02T19:11:45.360494Z",
     "iopub.status.busy": "2023-07-02T19:11:45.359942Z",
     "iopub.status.idle": "2023-07-02T19:11:45.371222Z",
     "shell.execute_reply": "2023-07-02T19:11:45.369590Z"
    },
    "papermill": {
     "duration": 0.022981,
     "end_time": "2023-07-02T19:11:45.374751",
     "exception": false,
     "start_time": "2023-07-02T19:11:45.351770",
     "status": "completed"
    },
    "tags": []
   },
   "outputs": [
    {
     "name": "stdout",
     "output_type": "stream",
     "text": [
      "    Candidate ID  Ranking\n",
      "0             10        1\n",
      "1              5        2\n",
      "2             12        3\n",
      "3             11        4\n",
      "4              9        5\n",
      "5              8        6\n",
      "6              7        7\n",
      "7              6        8\n",
      "8              4        9\n",
      "9              3       10\n",
      "10             2       11\n",
      "11             1       12\n",
      "12             0       13\n"
     ]
    }
   ],
   "source": [
    "# Get the rankings\n",
    "rankings = np.argsort(new_rankings)[::-1]\n",
    "\n",
    "# Create a Pandas DataFrame\n",
    "df = pd.DataFrame({\n",
    "    'Candidate ID': rankings,\n",
    "    'Ranking': np.arange(1, len(rankings) + 1)\n",
    "})\n",
    "\n",
    "# Print the DataFrame\n",
    "print(df.to_string())"
   ]
  }
 ],
 "metadata": {
  "kernelspec": {
   "display_name": "Python 3",
   "language": "python",
   "name": "python3"
  },
  "language_info": {
   "codemirror_mode": {
    "name": "ipython",
    "version": 3
   },
   "file_extension": ".py",
   "mimetype": "text/x-python",
   "name": "python",
   "nbconvert_exporter": "python",
   "pygments_lexer": "ipython3",
   "version": "3.10.10"
  },
  "papermill": {
   "default_parameters": {},
   "duration": 22.76931,
   "end_time": "2023-07-02T19:11:47.113533",
   "environment_variables": {},
   "exception": null,
   "input_path": "__notebook__.ipynb",
   "output_path": "__notebook__.ipynb",
   "parameters": {},
   "start_time": "2023-07-02T19:11:24.344223",
   "version": "2.4.0"
  }
 },
 "nbformat": 4,
 "nbformat_minor": 5
}

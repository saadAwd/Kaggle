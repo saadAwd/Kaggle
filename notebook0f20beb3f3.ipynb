{
 "cells": [
  {
   "cell_type": "code",
   "execution_count": 1,
   "id": "a05b60c5",
   "metadata": {
    "_cell_guid": "b1076dfc-b9ad-4769-8c92-a6c4dae69d19",
    "_uuid": "8f2839f25d086af736a60e9eeb907d3b93b6e0e5",
    "execution": {
     "iopub.execute_input": "2023-07-01T10:55:07.938932Z",
     "iopub.status.busy": "2023-07-01T10:55:07.938249Z",
     "iopub.status.idle": "2023-07-01T10:55:07.956143Z",
     "shell.execute_reply": "2023-07-01T10:55:07.955051Z"
    },
    "papermill": {
     "duration": 0.025759,
     "end_time": "2023-07-01T10:55:07.958706",
     "exception": false,
     "start_time": "2023-07-01T10:55:07.932947",
     "status": "completed"
    },
    "tags": []
   },
   "outputs": [
    {
     "name": "stdout",
     "output_type": "stream",
     "text": [
      "/kaggle/input/textsearch/potential-talents - Aspiring human resources - seeking human resources.csv\n"
     ]
    }
   ],
   "source": [
    "# This Python 3 environment comes with many helpful analytics libraries installed\n",
    "# It is defined by the kaggle/python Docker image: https://github.com/kaggle/docker-python\n",
    "# For example, here's several helpful packages to load\n",
    "\n",
    "import numpy as np # linear algebra\n",
    "import pandas as pd # data processing, CSV file I/O (e.g. pd.read_csv)\n",
    "\n",
    "# Input data files are available in the read-only \"../input/\" directory\n",
    "# For example, running this (by clicking run or pressing Shift+Enter) will list all files under the input directory\n",
    "\n",
    "import os\n",
    "for dirname, _, filenames in os.walk('/kaggle/input'):\n",
    "    for filename in filenames:\n",
    "        print(os.path.join(dirname, filename))\n",
    "\n",
    "# You can write up to 20GB to the current directory (/kaggle/working/) that gets preserved as output when you create a version using \"Save & Run All\" \n",
    "# You can also write temporary files to /kaggle/temp/, but they won't be saved outside of the current session"
   ]
  },
  {
   "cell_type": "code",
   "execution_count": 2,
   "id": "7709ebad",
   "metadata": {
    "execution": {
     "iopub.execute_input": "2023-07-01T10:55:07.967541Z",
     "iopub.status.busy": "2023-07-01T10:55:07.966866Z",
     "iopub.status.idle": "2023-07-01T10:55:10.017766Z",
     "shell.execute_reply": "2023-07-01T10:55:10.016563Z"
    },
    "papermill": {
     "duration": 2.058424,
     "end_time": "2023-07-01T10:55:10.020685",
     "exception": false,
     "start_time": "2023-07-01T10:55:07.962261",
     "status": "completed"
    },
    "tags": []
   },
   "outputs": [],
   "source": [
    "import IPython\n",
    "IPython.core.display._iopub_max_chars = 1000000\n",
    "import gensim.downloader as api\n",
    "from sklearn.metrics.pairwise import cosine_similarity\n",
    "from sklearn.datasets import load_svmlight_file\n",
    "from sklearn.linear_model import LogisticRegression\n",
    "from sklearn.model_selection import train_test_split\n",
    "from sklearn.metrics import ndcg_score"
   ]
  },
  {
   "cell_type": "code",
   "execution_count": 3,
   "id": "8f1515b2",
   "metadata": {
    "execution": {
     "iopub.execute_input": "2023-07-01T10:55:10.029367Z",
     "iopub.status.busy": "2023-07-01T10:55:10.028836Z",
     "iopub.status.idle": "2023-07-01T10:55:10.117513Z",
     "shell.execute_reply": "2023-07-01T10:55:10.116602Z"
    },
    "papermill": {
     "duration": 0.096146,
     "end_time": "2023-07-01T10:55:10.120218",
     "exception": false,
     "start_time": "2023-07-01T10:55:10.024072",
     "status": "completed"
    },
    "tags": []
   },
   "outputs": [
    {
     "name": "stdout",
     "output_type": "stream",
     "text": [
      "    id                                          job_title  \\\n",
      "2    3              Aspiring Human Resources Professional   \n",
      "5    6                Aspiring Human Resources Specialist   \n",
      "6    7  Student at Humber College and Aspiring Human R...   \n",
      "8    9  Student at Humber College and Aspiring Human R...   \n",
      "16  17              Aspiring Human Resources Professional   \n",
      "20  21              Aspiring Human Resources Professional   \n",
      "23  24                Aspiring Human Resources Specialist   \n",
      "24  25  Student at Humber College and Aspiring Human R...   \n",
      "32  33              Aspiring Human Resources Professional   \n",
      "35  36                Aspiring Human Resources Specialist   \n",
      "36  37  Student at Humber College and Aspiring Human R...   \n",
      "38  39  Student at Humber College and Aspiring Human R...   \n",
      "45  46              Aspiring Human Resources Professional   \n",
      "48  49                Aspiring Human Resources Specialist   \n",
      "49  50  Student at Humber College and Aspiring Human R...   \n",
      "51  52  Student at Humber College and Aspiring Human R...   \n",
      "57  58              Aspiring Human Resources Professional   \n",
      "59  60                Aspiring Human Resources Specialist   \n",
      "72  73  Aspiring Human Resources Manager, seeking inte...   \n",
      "73  74                       Human Resources Professional   \n",
      "96  97              Aspiring Human Resources Professional   \n",
      "\n",
      "                               location connection  fit     tfidf  \n",
      "2   Raleigh-Durham, North Carolina Area         44  NaN  0.753591  \n",
      "5            Greater New York City Area          1  NaN  0.695679  \n",
      "6                                Kanada         61  NaN  0.400609  \n",
      "8                                Kanada         61  NaN  0.400609  \n",
      "16  Raleigh-Durham, North Carolina Area         44  NaN  0.753591  \n",
      "20  Raleigh-Durham, North Carolina Area         44  NaN  0.753591  \n",
      "23           Greater New York City Area          1  NaN  0.695679  \n",
      "24                               Kanada         61  NaN  0.400609  \n",
      "32  Raleigh-Durham, North Carolina Area         44  NaN  0.753591  \n",
      "35           Greater New York City Area          1  NaN  0.695679  \n",
      "36                               Kanada         61  NaN  0.400609  \n",
      "38                               Kanada         61  NaN  0.400609  \n",
      "45  Raleigh-Durham, North Carolina Area         44  NaN  0.753591  \n",
      "48           Greater New York City Area          1  NaN  0.695679  \n",
      "49                               Kanada         61  NaN  0.400609  \n",
      "51                               Kanada         61  NaN  0.400609  \n",
      "57  Raleigh-Durham, North Carolina Area         44  NaN  0.753591  \n",
      "59           Greater New York City Area          1  NaN  0.695679  \n",
      "72                  Houston, Texas Area          7  NaN  0.533162  \n",
      "73                  Greater Boston Area         16  NaN  0.460159  \n",
      "96                 Kokomo, Indiana Area         71  NaN  0.753591  \n",
      "id            21\n",
      "job_title     21\n",
      "location      21\n",
      "connection    21\n",
      "fit            0\n",
      "tfidf         21\n",
      "dtype: int64\n"
     ]
    }
   ],
   "source": [
    "from sklearn.feature_extraction.text import TfidfVectorizer\n",
    "\n",
    "df = pd.read_csv(\"/kaggle/input/textsearch/potential-talents - Aspiring human resources - seeking human resources.csv\")\n",
    "\n",
    "# create a TF-IDF vectorizer\n",
    "vectorizer = TfidfVectorizer()\n",
    "\n",
    "# fit the vectorizer on the job_title column\n",
    "vectorizer.fit(df['job_title'])\n",
    "\n",
    "# transform the job_title column into a TF-IDF matrix\n",
    "tfidf_matrix = vectorizer.transform(df['job_title'])\n",
    "\n",
    "# compute the cosine similarity between each row and the target phrase\n",
    "target_phrase = 'aspiring human resources'\n",
    "target_tfidf = vectorizer.transform([target_phrase])\n",
    "similarity_scores = tfidf_matrix.dot(target_tfidf.T).toarray().flatten()\n",
    "\n",
    "# add the scores as a new column in the DataFrame\n",
    "df['tfidf'] = similarity_scores\n",
    "\n",
    "# filter the DataFrame to show only rows with similarity > 0\n",
    "similar_jobs = df[df['tfidf'] >= 0.4]\n",
    "\n",
    "# print the filtered DataFrame\n",
    "print(similar_jobs)\n",
    "print(similar_jobs.count())"
   ]
  },
  {
   "cell_type": "code",
   "execution_count": 4,
   "id": "b185117c",
   "metadata": {
    "execution": {
     "iopub.execute_input": "2023-07-01T10:55:10.132926Z",
     "iopub.status.busy": "2023-07-01T10:55:10.132288Z",
     "iopub.status.idle": "2023-07-01T10:55:11.296723Z",
     "shell.execute_reply": "2023-07-01T10:55:11.295695Z"
    },
    "papermill": {
     "duration": 1.17373,
     "end_time": "2023-07-01T10:55:11.299190",
     "exception": false,
     "start_time": "2023-07-01T10:55:10.125460",
     "status": "completed"
    },
    "tags": []
   },
   "outputs": [
    {
     "name": "stdout",
     "output_type": "stream",
     "text": [
      "[ 2  5 16 20 23 32 35 45 48 57 59 72 96]\n",
      "[  0   1   3   4   6   7   8   9  10  11  12  13  14  15  17  18  19  21\n",
      "  22  24  25  26  27  28  29  30  31  33  34  36  37  38  39  40  41  42\n",
      "  43  44  46  47  49  50  51  52  53  54  55  56  58  60  61  62  63  64\n",
      "  65  66  67  68  69  70  71  73  74  75  76  77  78  79  80  81  82  83\n",
      "  84  85  86  87  88  89  90  91  92  93  94  95  97  98  99 100 101 102\n",
      " 103]\n",
      "13\n",
      "[13]\n",
      "[ 1  2  3  4  5  6  7  8  9 10 11 12 13]\n",
      "['Aspiring Human Resources Professional', 'Aspiring Human Resources Specialist', 'Aspiring Human Resources Professional', 'Aspiring Human Resources Professional', 'Aspiring Human Resources Specialist', 'Aspiring Human Resources Professional', 'Aspiring Human Resources Specialist', 'Aspiring Human Resources Professional', 'Aspiring Human Resources Specialist', 'Aspiring Human Resources Professional', 'Aspiring Human Resources Specialist', 'Aspiring Human Resources Manager, seeking internship in Human Resources.', 'Aspiring Human Resources Professional']\n"
     ]
    }
   ],
   "source": [
    "import pandas as pd\n",
    "import lightgbm as lgb\n",
    "from sklearn.metrics import average_precision_score\n",
    "import numpy as np\n",
    "from sklearn.feature_extraction.text import TfidfVectorizer\n",
    "\n",
    "\n",
    "# Extract the job titles from the relevant column\n",
    "job_titles = df['job_title'].tolist()\n",
    "\n",
    "# Define the keywords as a complete sentence\n",
    "keywords = \"Aspiring Human Resources\"\n",
    "\n",
    "# Compute the TFIDF scores\n",
    "vectorizer = TfidfVectorizer()\n",
    "tfidf_scores = vectorizer.fit_transform(job_titles)\n",
    "keyword_scores = vectorizer.transform([keywords])\n",
    "\n",
    "# Compute the similarity scores\n",
    "similarity_scores = tfidf_scores.dot(keyword_scores.T).toarray()\n",
    "\n",
    "# Choose the rows with similarity scores > 0.5\n",
    "selected_rows = np.where(similarity_scores >= 0.5)[0]\n",
    "dropped_rows = np.where(similarity_scores < 0.5)[0]\n",
    "print(selected_rows)\n",
    "print(dropped_rows)\n",
    "\n",
    "# Define the target variable\n",
    "y = [i+1 for i in range(len(selected_rows))]\n",
    "\n",
    "# Prepare the data\n",
    "X = tfidf_scores[selected_rows,:]\n",
    "X = X.toarray()\n",
    "X = np.hstack((X, np.array([len(job_title) for job_title in job_titles])[selected_rows].reshape(-1,1)))\n",
    "X = np.hstack((X, np.array([len(job_title.split()) for job_title in job_titles])[selected_rows].reshape(-1,1)))\n",
    "\n",
    "# Define the query information\n",
    "query_ids = np.arange(len(y))\n",
    "query_lengths = np.array([len(selected_rows)])\n",
    "\n",
    "max_label = max(y)\n",
    "print(max_label)\n",
    "print(query_lengths)\n",
    "\n",
    "unique_labels = np.unique(y)\n",
    "print(unique_labels)\n",
    "\n",
    "# Train the model\n",
    "lgb_train = lgb.Dataset(X, y, group=query_lengths)\n",
    "params = {\n",
    "    'boosting_type': 'gbdt',\n",
    "    'objective': 'lambdarank',\n",
    "    'metric': 'ndcg',\n",
    "    'ndcg_eval_at': [5, 10],\n",
    "    'num_leaves': 31,\n",
    "    'learning_rate': 0.05,\n",
    "    'feature_fraction': 0.9,\n",
    "    'bagging_fraction': 0.8,\n",
    "    'bagging_freq': 5,\n",
    "    'verbose': -1\n",
    "}\n",
    "model = lgb.train(params, lgb_train, num_boost_round=100)\n",
    "\n",
    "# Use the model for ranking\n",
    "rankings = model.predict(X, group=query_lengths)\n",
    "ranked_job_titles_Aspiring = [job_titles[selected_rows[i]] for i in np.argsort(rankings)]\n",
    "\n",
    "# Print the ranked job titles\n",
    "print(ranked_job_titles_Aspiring)\n"
   ]
  },
  {
   "cell_type": "code",
   "execution_count": 5,
   "id": "dee864df",
   "metadata": {
    "execution": {
     "iopub.execute_input": "2023-07-01T10:55:11.307716Z",
     "iopub.status.busy": "2023-07-01T10:55:11.307355Z",
     "iopub.status.idle": "2023-07-01T10:55:11.360185Z",
     "shell.execute_reply": "2023-07-01T10:55:11.358750Z"
    },
    "papermill": {
     "duration": 0.059636,
     "end_time": "2023-07-01T10:55:11.362338",
     "exception": false,
     "start_time": "2023-07-01T10:55:11.302702",
     "status": "completed"
    },
    "tags": []
   },
   "outputs": [
    {
     "name": "stdout",
     "output_type": "stream",
     "text": [
      "['Aspiring Human Resources Professional', 'Aspiring Human Resources Specialist', 'Aspiring Human Resources Professional', 'Aspiring Human Resources Professional', 'Aspiring Human Resources Specialist', 'Aspiring Human Resources Professional', 'Aspiring Human Resources Specialist', 'Aspiring Human Resources Professional', 'Aspiring Human Resources Specialist', 'Aspiring Human Resources Professional', 'Aspiring Human Resources Specialist', 'Aspiring Human Resources Manager, seeking internship in Human Resources.', 'Aspiring Human Resources Professional']\n"
     ]
    }
   ],
   "source": [
    "import pandas as pd\n",
    "import lightgbm as lgb\n",
    "from sklearn.feature_extraction.text import TfidfVectorizer\n",
    "\n",
    "# Define the target variable\n",
    "y = [i+1 for i in range(len(selected_rows))]\n",
    "\n",
    "# Prepare the data\n",
    "X = tfidf_scores[selected_rows,:]\n",
    "X = X.toarray()\n",
    "X = np.hstack((X, np.array([len(job_title) for job_title in job_titles])[selected_rows].reshape(-1,1)))\n",
    "X = np.hstack((X, np.array([len(job_title.split()) for job_title in job_titles])[selected_rows].reshape(-1,1)))\n",
    "\n",
    "# Define the query information\n",
    "query_ids = np.arange(len(y))\n",
    "query_lengths = np.array([len(selected_rows)])\n",
    "\n",
    "# Train the model\n",
    "lgb_train = lgb.Dataset(X, y, group=query_lengths)\n",
    "params = {\n",
    "    'boosting_type': 'gbdt',\n",
    "    'objective': 'lambdarank',\n",
    "    'metric': 'ndcg',\n",
    "    'ndcg_eval_at': [5, 10],\n",
    "    'num_leaves': 31,\n",
    "    'learning_rate': 0.05,\n",
    "    'feature_fraction': 0.9,\n",
    "    'bagging_fraction': 0.8,\n",
    "    'bagging_freq': 5,\n",
    "    'verbose': -1,\n",
    "    'num_class': 1 # set to 1 for non-multiclass training\n",
    "}\n",
    "model = lgb.train(params, lgb_train, num_boost_round=100)\n",
    "\n",
    "# Use the model for ranking\n",
    "rankings = model.predict(X, group=query_lengths)\n",
    "ranked_job_titles = [job_titles[selected_rows[i]] for i in np.argsort(rankings)]\n",
    "\n",
    "# Print the ranked job titles\n",
    "print(ranked_job_titles)\n"
   ]
  },
  {
   "cell_type": "code",
   "execution_count": 6,
   "id": "bb0ceaed",
   "metadata": {
    "execution": {
     "iopub.execute_input": "2023-07-01T10:55:11.371328Z",
     "iopub.status.busy": "2023-07-01T10:55:11.370651Z",
     "iopub.status.idle": "2023-07-01T10:55:11.383481Z",
     "shell.execute_reply": "2023-07-01T10:55:11.382338Z"
    },
    "papermill": {
     "duration": 0.020066,
     "end_time": "2023-07-01T10:55:11.385921",
     "exception": false,
     "start_time": "2023-07-01T10:55:11.365855",
     "status": "completed"
    },
    "tags": []
   },
   "outputs": [
    {
     "name": "stdout",
     "output_type": "stream",
     "text": [
      "id                                               21\n",
      "job_title     Aspiring Human Resources Professional\n",
      "location        Raleigh-Durham, North Carolina Area\n",
      "connection                                       44\n",
      "fit                                             NaN\n",
      "tfidf                                      0.753591\n",
      "Name: 20, dtype: object\n",
      "id                                             24\n",
      "job_title     Aspiring Human Resources Specialist\n",
      "location               Greater New York City Area\n",
      "connection                                      1\n",
      "fit                                           NaN\n",
      "tfidf                                    0.695679\n",
      "Name: 23, dtype: object\n",
      "id                                               33\n",
      "job_title     Aspiring Human Resources Professional\n",
      "location        Raleigh-Durham, North Carolina Area\n",
      "connection                                       44\n",
      "fit                                             NaN\n",
      "tfidf                                      0.753591\n",
      "Name: 32, dtype: object\n",
      "id                                             36\n",
      "job_title     Aspiring Human Resources Specialist\n",
      "location               Greater New York City Area\n",
      "connection                                      1\n",
      "fit                                           NaN\n",
      "tfidf                                    0.695679\n",
      "Name: 35, dtype: object\n",
      "id                                               46\n",
      "job_title     Aspiring Human Resources Professional\n",
      "location        Raleigh-Durham, North Carolina Area\n",
      "connection                                       44\n",
      "fit                                             NaN\n",
      "tfidf                                      0.753591\n",
      "Name: 45, dtype: object\n",
      "id                                             49\n",
      "job_title     Aspiring Human Resources Specialist\n",
      "location               Greater New York City Area\n",
      "connection                                      1\n",
      "fit                                           NaN\n",
      "tfidf                                    0.695679\n",
      "Name: 48, dtype: object\n",
      "id                                               58\n",
      "job_title     Aspiring Human Resources Professional\n",
      "location        Raleigh-Durham, North Carolina Area\n",
      "connection                                       44\n",
      "fit                                             NaN\n",
      "tfidf                                      0.753591\n",
      "Name: 57, dtype: object\n",
      "id                                             60\n",
      "job_title     Aspiring Human Resources Specialist\n",
      "location               Greater New York City Area\n",
      "connection                                      1\n",
      "fit                                           NaN\n",
      "tfidf                                    0.695679\n",
      "Name: 59, dtype: object\n",
      "id                                                           73\n",
      "job_title     Aspiring Human Resources Manager, seeking inte...\n",
      "location                                    Houston, Texas Area\n",
      "connection                                                    7\n",
      "fit                                                         NaN\n",
      "tfidf                                                  0.533162\n",
      "Name: 72, dtype: object\n",
      "id                                               97\n",
      "job_title     Aspiring Human Resources Professional\n",
      "location                       Kokomo, Indiana Area\n",
      "connection                                       71\n",
      "fit                                             NaN\n",
      "tfidf                                      0.753591\n",
      "Name: 96, dtype: object\n"
     ]
    }
   ],
   "source": [
    "# Get the indices of the top N job titles with the highest ranking scores\n",
    "N = 10\n",
    "top_indices = np.argsort(rankings)[-N:]\n",
    "\n",
    "# Print the top N job titles with their corresponding similarity scores\n",
    "for i in top_indices:\n",
    "    index = selected_rows[np.argsort(rankings)[i]]\n",
    "    print(df.iloc[index])"
   ]
  },
  {
   "cell_type": "code",
   "execution_count": 7,
   "id": "747cdfa2",
   "metadata": {
    "execution": {
     "iopub.execute_input": "2023-07-01T10:55:11.394885Z",
     "iopub.status.busy": "2023-07-01T10:55:11.394513Z",
     "iopub.status.idle": "2023-07-01T10:55:11.403617Z",
     "shell.execute_reply": "2023-07-01T10:55:11.402193Z"
    },
    "papermill": {
     "duration": 0.016697,
     "end_time": "2023-07-01T10:55:11.406286",
     "exception": false,
     "start_time": "2023-07-01T10:55:11.389589",
     "status": "completed"
    },
    "tags": []
   },
   "outputs": [
    {
     "name": "stdout",
     "output_type": "stream",
     "text": [
      "[10 12 11  9  8  7  6  5  4  3  2  1  0]\n",
      "[10 12 11  9  8  7  6  5  4  3  2  1  0]\n"
     ]
    }
   ],
   "source": [
    "import numpy as np\n",
    "\n",
    "def star_candidate(candidate_id, rankings):\n",
    "    rankings[candidate_id] = float('inf')\n",
    "    return rankings\n",
    "\n",
    "# Star the candidate with ID 10\n",
    "rankings = star_candidate(10, rankings)\n",
    "\n",
    "\n",
    "# Print the re-ranked candidates\n",
    "print(np.argsort(rankings)[::-1])\n",
    "\n",
    "\n",
    "\n",
    "def re_rank_candidates(rankings):\n",
    "    new_rankings = rankings.copy()\n",
    "    for candidate_id in np.argsort(rankings)[::-1]:\n",
    "        if candidate_id in starred_candidates:\n",
    "            new_rankings[candidate_id] = float('inf')\n",
    "    return new_rankings\n",
    "\n",
    "# Get the list of starred candidates\n",
    "starred_candidates = [10, 20, 30]\n",
    "\n",
    "# Re-rank the candidates\n",
    "new_rankings = re_rank_candidates(rankings)\n",
    "\n",
    "# Print the re-ranked candidates\n",
    "print(np.argsort(new_rankings)[::-1])"
   ]
  },
  {
   "cell_type": "code",
   "execution_count": 8,
   "id": "43a6e4cc",
   "metadata": {
    "execution": {
     "iopub.execute_input": "2023-07-01T10:55:11.415540Z",
     "iopub.status.busy": "2023-07-01T10:55:11.415145Z",
     "iopub.status.idle": "2023-07-01T10:55:11.429789Z",
     "shell.execute_reply": "2023-07-01T10:55:11.428561Z"
    },
    "papermill": {
     "duration": 0.022916,
     "end_time": "2023-07-01T10:55:11.433015",
     "exception": false,
     "start_time": "2023-07-01T10:55:11.410099",
     "status": "completed"
    },
    "tags": []
   },
   "outputs": [
    {
     "name": "stdout",
     "output_type": "stream",
     "text": [
      "id                                               21\n",
      "job_title     Aspiring Human Resources Professional\n",
      "location        Raleigh-Durham, North Carolina Area\n",
      "connection                                       44\n",
      "fit                                             NaN\n",
      "tfidf                                      0.753591\n",
      "Name: 20, dtype: object\n",
      "id                                             24\n",
      "job_title     Aspiring Human Resources Specialist\n",
      "location               Greater New York City Area\n",
      "connection                                      1\n",
      "fit                                           NaN\n",
      "tfidf                                    0.695679\n",
      "Name: 23, dtype: object\n",
      "id                                               33\n",
      "job_title     Aspiring Human Resources Professional\n",
      "location        Raleigh-Durham, North Carolina Area\n",
      "connection                                       44\n",
      "fit                                             NaN\n",
      "tfidf                                      0.753591\n",
      "Name: 32, dtype: object\n",
      "id                                             36\n",
      "job_title     Aspiring Human Resources Specialist\n",
      "location               Greater New York City Area\n",
      "connection                                      1\n",
      "fit                                           NaN\n",
      "tfidf                                    0.695679\n",
      "Name: 35, dtype: object\n",
      "id                                               46\n",
      "job_title     Aspiring Human Resources Professional\n",
      "location        Raleigh-Durham, North Carolina Area\n",
      "connection                                       44\n",
      "fit                                             NaN\n",
      "tfidf                                      0.753591\n",
      "Name: 45, dtype: object\n",
      "id                                             49\n",
      "job_title     Aspiring Human Resources Specialist\n",
      "location               Greater New York City Area\n",
      "connection                                      1\n",
      "fit                                           NaN\n",
      "tfidf                                    0.695679\n",
      "Name: 48, dtype: object\n",
      "id                                               58\n",
      "job_title     Aspiring Human Resources Professional\n",
      "location        Raleigh-Durham, North Carolina Area\n",
      "connection                                       44\n",
      "fit                                             NaN\n",
      "tfidf                                      0.753591\n",
      "Name: 57, dtype: object\n",
      "id                                               97\n",
      "job_title     Aspiring Human Resources Professional\n",
      "location                       Kokomo, Indiana Area\n",
      "connection                                       71\n",
      "fit                                             NaN\n",
      "tfidf                                      0.753591\n",
      "Name: 96, dtype: object\n",
      "id                                             60\n",
      "job_title     Aspiring Human Resources Specialist\n",
      "location               Greater New York City Area\n",
      "connection                                      1\n",
      "fit                                           NaN\n",
      "tfidf                                    0.695679\n",
      "Name: 59, dtype: object\n",
      "id                                                           73\n",
      "job_title     Aspiring Human Resources Manager, seeking inte...\n",
      "location                                    Houston, Texas Area\n",
      "connection                                                    7\n",
      "fit                                                         NaN\n",
      "tfidf                                                  0.533162\n",
      "Name: 72, dtype: object\n",
      "[10  5 12 11  9  8  7  6  4  3  2  1  0]\n"
     ]
    }
   ],
   "source": [
    "import numpy as np\n",
    "import pandas as pd\n",
    "\n",
    "# Get the indices of the top N job titles with the highest ranking scores\n",
    "N = 10\n",
    "top_indices = np.argsort(rankings)[-N:]\n",
    "\n",
    "# Print the top N job titles with their corresponding similarity scores\n",
    "for i in top_indices:\n",
    "    index = selected_rows[np.argsort(rankings)[i]]\n",
    "    print(df.iloc[index])\n",
    "\n",
    "# Star the candidate with ID 10\n",
    "rankings = star_candidate(10, rankings)\n",
    "rankings = star_candidate(5, rankings)\n",
    "\n",
    "# Re-rank the candidates\n",
    "new_rankings = re_rank_candidates(rankings)\n",
    "\n",
    "\n",
    "# Print the re-ranked candidates\n",
    "print(np.argsort(new_rankings)[::-1])\n"
   ]
  },
  {
   "cell_type": "code",
   "execution_count": 9,
   "id": "6215490b",
   "metadata": {
    "execution": {
     "iopub.execute_input": "2023-07-01T10:55:11.443027Z",
     "iopub.status.busy": "2023-07-01T10:55:11.442625Z",
     "iopub.status.idle": "2023-07-01T10:55:11.450879Z",
     "shell.execute_reply": "2023-07-01T10:55:11.449701Z"
    },
    "papermill": {
     "duration": 0.016578,
     "end_time": "2023-07-01T10:55:11.453552",
     "exception": false,
     "start_time": "2023-07-01T10:55:11.436974",
     "status": "completed"
    },
    "tags": []
   },
   "outputs": [
    {
     "name": "stdout",
     "output_type": "stream",
     "text": [
      "    Candidate ID  Ranking\n",
      "0             10        1\n",
      "1              5        2\n",
      "2             12        3\n",
      "3             11        4\n",
      "4              9        5\n",
      "5              8        6\n",
      "6              7        7\n",
      "7              6        8\n",
      "8              4        9\n",
      "9              3       10\n",
      "10             2       11\n",
      "11             1       12\n",
      "12             0       13\n"
     ]
    }
   ],
   "source": [
    "# Get the rankings\n",
    "rankings = np.argsort(new_rankings)[::-1]\n",
    "\n",
    "# Create a Pandas DataFrame\n",
    "df = pd.DataFrame({\n",
    "    'Candidate ID': rankings,\n",
    "    'Ranking': np.arange(1, len(rankings) + 1)\n",
    "})\n",
    "\n",
    "# Print the DataFrame\n",
    "print(df.to_string())"
   ]
  }
 ],
 "metadata": {
  "kernelspec": {
   "display_name": "Python 3",
   "language": "python",
   "name": "python3"
  },
  "language_info": {
   "codemirror_mode": {
    "name": "ipython",
    "version": 3
   },
   "file_extension": ".py",
   "mimetype": "text/x-python",
   "name": "python",
   "nbconvert_exporter": "python",
   "pygments_lexer": "ipython3",
   "version": "3.10.10"
  },
  "papermill": {
   "default_parameters": {},
   "duration": 15.996804,
   "end_time": "2023-07-01T10:55:12.579466",
   "environment_variables": {},
   "exception": null,
   "input_path": "__notebook__.ipynb",
   "output_path": "__notebook__.ipynb",
   "parameters": {},
   "start_time": "2023-07-01T10:54:56.582662",
   "version": "2.4.0"
  }
 },
 "nbformat": 4,
 "nbformat_minor": 5
}

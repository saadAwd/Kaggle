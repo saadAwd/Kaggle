{
 "cells": [
  {
   "cell_type": "code",
   "execution_count": 1,
   "id": "8e7eb224",
   "metadata": {
    "_cell_guid": "b1076dfc-b9ad-4769-8c92-a6c4dae69d19",
    "_uuid": "8f2839f25d086af736a60e9eeb907d3b93b6e0e5",
    "execution": {
     "iopub.execute_input": "2023-06-09T13:14:23.058242Z",
     "iopub.status.busy": "2023-06-09T13:14:23.057828Z",
     "iopub.status.idle": "2023-06-09T13:14:23.077764Z",
     "shell.execute_reply": "2023-06-09T13:14:23.076824Z"
    },
    "papermill": {
     "duration": 0.027274,
     "end_time": "2023-06-09T13:14:23.080272",
     "exception": false,
     "start_time": "2023-06-09T13:14:23.052998",
     "status": "completed"
    },
    "tags": []
   },
   "outputs": [
    {
     "name": "stdout",
     "output_type": "stream",
     "text": [
      "/kaggle/input/textsearch/potential-talents - Aspiring human resources - seeking human resources.csv\n"
     ]
    }
   ],
   "source": [
    "# This Python 3 environment comes with many helpful analytics libraries installed\n",
    "# It is defined by the kaggle/python Docker image: https://github.com/kaggle/docker-python\n",
    "# For example, here's several helpful packages to load\n",
    "\n",
    "import numpy as np # linear algebra\n",
    "import pandas as pd # data processing, CSV file I/O (e.g. pd.read_csv)\n",
    "\n",
    "# Input data files are available in the read-only \"../input/\" directory\n",
    "# For example, running this (by clicking run or pressing Shift+Enter) will list all files under the input directory\n",
    "\n",
    "import os\n",
    "for dirname, _, filenames in os.walk('/kaggle/input'):\n",
    "    for filename in filenames:\n",
    "        print(os.path.join(dirname, filename))\n",
    "\n",
    "# You can write up to 20GB to the current directory (/kaggle/working/) that gets preserved as output when you create a version using \"Save & Run All\" \n",
    "# You can also write temporary files to /kaggle/temp/, but they won't be saved outside of the current session"
   ]
  },
  {
   "cell_type": "code",
   "execution_count": 2,
   "id": "0f3664da",
   "metadata": {
    "execution": {
     "iopub.execute_input": "2023-06-09T13:14:23.087936Z",
     "iopub.status.busy": "2023-06-09T13:14:23.087556Z",
     "iopub.status.idle": "2023-06-09T13:14:23.158275Z",
     "shell.execute_reply": "2023-06-09T13:14:23.157370Z"
    },
    "papermill": {
     "duration": 0.077721,
     "end_time": "2023-06-09T13:14:23.161114",
     "exception": false,
     "start_time": "2023-06-09T13:14:23.083393",
     "status": "completed"
    },
    "tags": []
   },
   "outputs": [
    {
     "name": "stdout",
     "output_type": "stream",
     "text": [
      "      id                                          job_title  \\\n",
      "0      1  2019 C.T. Bauer College of Business Graduate (...   \n",
      "1      2  Native English Teacher at EPIK (English Progra...   \n",
      "2      3              Aspiring Human Resources Professional   \n",
      "3      4             People Development Coordinator at Ryan   \n",
      "4      5    Advisory Board Member at Celal Bayar University   \n",
      "..   ...                                                ...   \n",
      "99   100  Aspiring Human Resources Manager | Graduating ...   \n",
      "100  101              Human Resources Generalist at Loparex   \n",
      "101  102   Business Intelligence and Analytics at Travelers   \n",
      "102  103                     Always set them up for Success   \n",
      "103  104   Director Of Administration at Excellence Logging   \n",
      "\n",
      "                                location connection  fit  \n",
      "0                         Houston, Texas         85  1.0  \n",
      "1                                 Kanada      500+   0.0  \n",
      "2    Raleigh-Durham, North Carolina Area         44  1.0  \n",
      "3                          Denton, Texas      500+   0.0  \n",
      "4                         İzmir, Türkiye      500+   0.0  \n",
      "..                                   ...        ...  ...  \n",
      "99              Cape Girardeau, Missouri        103  1.0  \n",
      "100  Raleigh-Durham, North Carolina Area      500+   0.0  \n",
      "101           Greater New York City Area         49  0.0  \n",
      "102             Greater Los Angeles Area      500+   0.0  \n",
      "103                          Katy, Texas      500+   0.0  \n",
      "\n",
      "[104 rows x 5 columns]\n",
      "id            43\n",
      "job_title     43\n",
      "location      43\n",
      "connection    43\n",
      "fit           43\n",
      "dtype: int64\n"
     ]
    }
   ],
   "source": [
    "import re\n",
    "\n",
    "# Load the data\n",
    "data = pd.read_csv('/kaggle/input/textsearch/potential-talents - Aspiring human resources - seeking human resources.csv')\n",
    "\n",
    "# Define the keywords\n",
    "keywords = ['aspiring human resources', 'seeking human resources']\n",
    "\n",
    "# Fill the \"fit\" column based on the keywords\n",
    "for index, row in data.iterrows():\n",
    "    job_title = row['job_title'].lower()\n",
    "    for keyword in keywords:\n",
    "        if re.search(keyword, job_title):\n",
    "            data.at[index, 'fit'] = 1\n",
    "            break\n",
    "    else:\n",
    "        data.at[index, 'fit'] = 0\n",
    "\n",
    "# Save the data\n",
    "data.to_csv('job_titles_with_fit.csv', index=False)\n",
    "print(data)\n",
    "\n",
    "# Filter the data based on the column and value\n",
    "filtered_data = data.loc[data['fit'] == 1]\n",
    "\n",
    "# Print the filtered data\n",
    "print(filtered_data.count())"
   ]
  },
  {
   "cell_type": "code",
   "execution_count": 3,
   "id": "6b91a864",
   "metadata": {
    "execution": {
     "iopub.execute_input": "2023-06-09T13:14:23.169140Z",
     "iopub.status.busy": "2023-06-09T13:14:23.168780Z",
     "iopub.status.idle": "2023-06-09T13:14:24.959180Z",
     "shell.execute_reply": "2023-06-09T13:14:24.958018Z"
    },
    "papermill": {
     "duration": 1.797864,
     "end_time": "2023-06-09T13:14:24.962140",
     "exception": false,
     "start_time": "2023-06-09T13:14:23.164276",
     "status": "completed"
    },
    "tags": []
   },
   "outputs": [],
   "source": [
    "import IPython\n",
    "IPython.core.display._iopub_max_chars = 1000000\n",
    "import gensim.downloader as api\n",
    "from sklearn.metrics.pairwise import cosine_similarity\n",
    "from sklearn.datasets import load_svmlight_file\n",
    "from sklearn.linear_model import LogisticRegression\n",
    "from sklearn.model_selection import train_test_split\n",
    "from sklearn.metrics import ndcg_score"
   ]
  },
  {
   "cell_type": "code",
   "execution_count": 4,
   "id": "79217769",
   "metadata": {
    "execution": {
     "iopub.execute_input": "2023-06-09T13:14:24.970150Z",
     "iopub.status.busy": "2023-06-09T13:14:24.969701Z",
     "iopub.status.idle": "2023-06-09T13:19:30.515520Z",
     "shell.execute_reply": "2023-06-09T13:19:30.514454Z"
    },
    "papermill": {
     "duration": 320.76185,
     "end_time": "2023-06-09T13:19:45.727181",
     "exception": false,
     "start_time": "2023-06-09T13:14:24.965331",
     "status": "completed"
    },
    "tags": []
   },
   "outputs": [
    {
     "name": "stdout",
     "output_type": "stream",
     "text": [
      "[==================================================] 100.0% 1662.8/1662.8MB downloaded\n",
      "Candidate 1:\n",
      "  ID: 1\n",
      "  Job Title: 2019 c.t. bauer college of business graduate (magna cum laude) and aspiring human resources professional\n",
      "  Location: Houston, Texas\n",
      "   Connections: 85\n",
      "   Fit: 1.0\n",
      "Candidate 2:\n",
      "  ID: 52\n",
      "  Job Title: student at humber college and aspiring human resources generalist\n",
      "  Location: Kanada\n",
      "   Connections: 61\n",
      "   Fit: 1.0\n",
      "Candidate 3:\n",
      "  ID: 90\n",
      "  Job Title: undergraduate research assistant at styczynski lab\n",
      "  Location: Greater Atlanta Area\n",
      "   Connections: 155\n",
      "   Fit: 1.0\n",
      "Candidate 4:\n",
      "  ID: 72\n",
      "  Job Title: business management major and aspiring human resources manager\n",
      "  Location: Monroe, Louisiana Area\n",
      "   Connections: 5\n",
      "   Fit: 1.0\n",
      "Candidate 5:\n",
      "  ID: 37\n",
      "  Job Title: student at humber college and aspiring human resources generalist\n",
      "  Location: Kanada\n",
      "   Connections: 61\n",
      "   Fit: 1.0\n",
      "Candidate 6:\n",
      "  ID: 39\n",
      "  Job Title: student at humber college and aspiring human resources generalist\n",
      "  Location: Kanada\n",
      "   Connections: 61\n",
      "   Fit: 1.0\n",
      "Candidate 7:\n",
      "  ID: 41\n",
      "  Job Title: student at chapman university\n",
      "  Location: Lake Forest, California\n",
      "   Connections: 2\n",
      "   Fit: 1.0\n",
      "Candidate 8:\n",
      "  ID: 87\n",
      "  Job Title: bachelor of science in biology from victoria university of wellington\n",
      "  Location: Baltimore, Maryland\n",
      "   Connections: 40\n",
      "   Fit: 1.0\n",
      "Candidate 9:\n",
      "  ID: 44\n",
      "  Job Title: 2019 c.t. bauer college of business graduate (magna cum laude) and aspiring human resources professional\n",
      "  Location: Houston, Texas\n",
      "   Connections: 85\n",
      "   Fit: 1.0\n",
      "Candidate 10:\n",
      "  ID: 45\n",
      "  Job Title: native english teacher at epik (english program in korea)\n",
      "  Location: Kanada\n",
      "   Connections: 500+ \n",
      "   Fit: 1.0\n"
     ]
    }
   ],
   "source": [
    "# Define the search keywords\n",
    "search_keywords = ['aspiring human resources', 'seeking human resources']\n",
    "\n",
    "# Load the word2vec model\n",
    "model = api.load('word2vec-google-news-300')\n",
    "\n",
    "# Preprocess the data\n",
    "data = data.dropna() # remove missing values\n",
    "data['job_title'] = data['job_title'].apply(lambda x: x.lower()) # convert to lowercase\n",
    "\n",
    "# Calculate the embeddings for each search keyword\n",
    "search_embeddings = [np.mean([model.get_vector(word) for word in search_keyword.split() if word in model.key_to_index] or [np.zeros(300)], axis=0) for search_keyword in search_keywords]\n",
    "\n",
    "# Calculate the similarity scores for each job title\n",
    "similarity_scores = np.zeros((len(data), len(search_keywords)))\n",
    "for j in range(len(search_keywords)):\n",
    "    embeddings = np.array([np.mean([model.get_vector(word) for word in job_title.split() if word in model.key_to_index] or [np.zeros(300)], axis=0) for job_title in data['job_title']])\n",
    "    similarity_scores[:, j] = np.array([cosine_similarity(embeddings[i].reshape(1, -1), search_embeddings[j].reshape(1, -1)) for i in range(len(data))]).flatten()\n",
    "\n",
    "# Fill the fit column in the range from 0 to 1 based on the similarity scores\n",
    "max_similarity_scores = np.max(similarity_scores, axis=1).reshape(-1, 1)\n",
    "min_similarity_scores = np.min(similarity_scores, axis=1).reshape(-1, 1)\n",
    "data['fit'] = (similarity_scores - min_similarity_scores) / (max_similarity_scores - min_similarity_scores)\n",
    "\n",
    "# Define the input and output data for the learning to rank model\n",
    "X = data['fit'].values.reshape(-1, 1)\n",
    "y = np.arange(len(data))\n",
    "\n",
    "# Split the data into training and test sets\n",
    "X_train, X_test, y_train, y_test = train_test_split(X, y, test_size=0.2, random_state=42)\n",
    "\n",
    "# Train a logistic regression model on the training set\n",
    "model = LogisticRegression()\n",
    "model.fit(X_train, y_train)\n",
    "\n",
    "# Get the predicted relevance scores for the candidates\n",
    "relevance_scores = model.predict_proba(X)[:, 1]\n",
    "\n",
    "# Add the predicted relevance scores to the dataset\n",
    "data['relevance_score'] = relevance_scores\n",
    "\n",
    "# Sort the dataset by the predicted relevance scores in descending order\n",
    "sorted_data = data.sort_values(by=['relevance_score'], ascending=False)\n",
    "\n",
    "# Print the top 10 candidates\n",
    "for i in range(10):\n",
    "    candidate = sorted_data.iloc[i]\n",
    "    print(f'Candidate {i+1}:')\n",
    "    print(f'  ID: {candidate[\"id\"]}')\n",
    "    print(f'  Job Title: {candidate[\"job_title\"]}')\n",
    "    print(f'  Location: {candidate[\"location\"]}')\n",
    "    print(f'   Connections: {candidate[\"connection\"]}')\n",
    "    print(f'   Fit: {candidate[\"fit\"]}')"
   ]
  },
  {
   "cell_type": "code",
   "execution_count": 5,
   "id": "a309be84",
   "metadata": {
    "execution": {
     "iopub.execute_input": "2023-06-09T13:20:19.236897Z",
     "iopub.status.busy": "2023-06-09T13:20:19.236372Z",
     "iopub.status.idle": "2023-06-09T13:20:19.247842Z",
     "shell.execute_reply": "2023-06-09T13:20:19.246779Z"
    },
    "papermill": {
     "duration": 17.005238,
     "end_time": "2023-06-09T13:20:19.250555",
     "exception": false,
     "start_time": "2023-06-09T13:20:02.245317",
     "status": "completed"
    },
    "tags": []
   },
   "outputs": [
    {
     "name": "stdout",
     "output_type": "stream",
     "text": [
      "      id                                          job_title  \\\n",
      "0      1  2019 c.t. bauer college of business graduate (...   \n",
      "51    52  student at humber college and aspiring human r...   \n",
      "89    90  undergraduate research assistant at styczynski...   \n",
      "71    72  business management major and aspiring human r...   \n",
      "36    37  student at humber college and aspiring human r...   \n",
      "..   ...                                                ...   \n",
      "63    64  svp, chro, marketing & communications, csr off...   \n",
      "64    65  human resources coordinator at intercontinenta...   \n",
      "67    68            human resources specialist at luxottica   \n",
      "68    69  director of human resources north america, gro...   \n",
      "103  104   director of administration at excellence logging   \n",
      "\n",
      "                                location connection  fit  relevance_score  \n",
      "0                         Houston, Texas         85  1.0         0.013857  \n",
      "51                                Kanada         61  1.0         0.013857  \n",
      "89                  Greater Atlanta Area        155  1.0         0.013857  \n",
      "71                Monroe, Louisiana Area          5  1.0         0.013857  \n",
      "36                                Kanada         61  1.0         0.013857  \n",
      "..                                   ...        ...  ...              ...  \n",
      "63                   Houston, Texas Area      500+   0.0         0.009687  \n",
      "64                      Atlanta, Georgia      500+   0.0         0.009687  \n",
      "67            Greater New York City Area      500+   0.0         0.009687  \n",
      "68   Greater Grand Rapids, Michigan Area      500+   0.0         0.009687  \n",
      "103                          Katy, Texas      500+   0.0         0.009687  \n",
      "\n",
      "[104 rows x 6 columns]\n"
     ]
    }
   ],
   "source": [
    "print(sorted_data)"
   ]
  }
 ],
 "metadata": {
  "kernelspec": {
   "display_name": "Python 3",
   "language": "python",
   "name": "python3"
  },
  "language_info": {
   "codemirror_mode": {
    "name": "ipython",
    "version": 3
   },
   "file_extension": ".py",
   "mimetype": "text/x-python",
   "name": "python",
   "nbconvert_exporter": "python",
   "pygments_lexer": "ipython3",
   "version": "3.10.10"
  },
  "papermill": {
   "default_parameters": {},
   "duration": 384.582931,
   "end_time": "2023-06-09T13:20:35.654794",
   "environment_variables": {},
   "exception": null,
   "input_path": "__notebook__.ipynb",
   "output_path": "__notebook__.ipynb",
   "parameters": {},
   "start_time": "2023-06-09T13:14:11.071863",
   "version": "2.4.0"
  }
 },
 "nbformat": 4,
 "nbformat_minor": 5
}
